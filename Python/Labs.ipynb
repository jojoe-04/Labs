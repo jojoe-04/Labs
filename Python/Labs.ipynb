{
 "cells": [
  {
   "cell_type": "markdown",
   "id": "7e8cba22",
   "metadata": {},
   "source": [
    "INTRO TO PYTHON LAB 1"
   ]
  },
  {
   "cell_type": "code",
   "execution_count": 4,
   "id": "b574cc9c",
   "metadata": {},
   "outputs": [
    {
     "name": "stdout",
     "output_type": "stream",
     "text": [
      "Please enter a number: 2\n",
      "even\n"
     ]
    }
   ],
   "source": [
    "#QUESTION 1 - EVEN OR ADD\n",
    "\n",
    "def evenOdd(number):\n",
    "    if number % 2 == 0:\n",
    "        return \"even\"\n",
    "    return \"odd\"\n",
    "\n",
    "num = eval(input(\"Please enter a number: \"))\n",
    "print(evenOdd(num))"
   ]
  },
  {
   "cell_type": "code",
   "execution_count": 6,
   "id": "9eb50d00",
   "metadata": {},
   "outputs": [
    {
     "name": "stdout",
     "output_type": "stream",
     "text": [
      "jojoe\n",
      "14\n",
      "jojoe14\n"
     ]
    }
   ],
   "source": [
    "#QUESTION 2 - Create Variables\n",
    "name = \"jojoe\"\n",
    "age = 14\n",
    "print(name)\n",
    "print(age)\n",
    "combined =  \"\" + name + str(age)\n",
    "print(combined)"
   ]
  },
  {
   "cell_type": "code",
   "execution_count": null,
   "id": "9a31f9e6",
   "metadata": {},
   "outputs": [],
   "source": [
    "#QUESTION 3 - Guess random\n",
    "\n",
    "import random\n",
    "def randomGuess():\n",
    "    rand = random.randint(1,5)\n",
    "\n",
    "    print(\"Please guess a random number between (1 - 5) I have picked\")\n",
    "    print(\"Enter 0 to quit\")\n",
    "    print(\" \")\n",
    "\n",
    "    while True:\n",
    "        num = eval(input(\"Enter another Guess: \"))\n",
    "        if num == 0:\n",
    "            print(\"You quit\")\n",
    "        if num == rand:\n",
    "            print(\"You entered the correct guess: \" , rand)\n",
    "            break\n",
    "        \n",
    "    \n",
    "randomGuess()"
   ]
  },
  {
   "cell_type": "code",
   "execution_count": 23,
   "id": "69515187",
   "metadata": {},
   "outputs": [
    {
     "name": "stdout",
     "output_type": "stream",
     "text": [
      "4  is even\n",
      "16  is even\n",
      "4  is even\n",
      "16  is even\n"
     ]
    }
   ],
   "source": [
    "# QUESTION 4 - \n",
    "\n",
    "list1 = [1,4,9,16,25]\n",
    "tuple1 = (1,4,9,16,25)\n",
    "\n",
    "for each in list1:\n",
    "    if evenOdd(each) == \"even\":\n",
    "        print(each, \" is even\")\n",
    "\n",
    "\n",
    "for each in tuple1:\n",
    "    if evenOdd(each) == \"even\":\n",
    "        print(each, \" is even\")"
   ]
  },
  {
   "cell_type": "code",
   "execution_count": 29,
   "id": "69bf9fcc",
   "metadata": {},
   "outputs": [
    {
     "name": "stdout",
     "output_type": "stream",
     "text": [
      "15  years\n",
      "180  months\n",
      "5475  days\n",
      "131490  hours\n"
     ]
    }
   ],
   "source": [
    "\n",
    "def yearsToAge(age):\n",
    "    years = 0\n",
    "    for i in range(1,age+1):\n",
    "        years += i\n",
    "    print(years, \" years\")\n",
    "    print(years*12, \" months\")\n",
    "    print(years*365, \" days\")\n",
    "    print(years*8766, \" hours\")\n",
    "        \n",
    "yearsToAge(5)"
   ]
  },
  {
   "cell_type": "markdown",
   "id": "112d373b",
   "metadata": {},
   "source": [
    "DATA TYPES"
   ]
  },
  {
   "cell_type": "code",
   "execution_count": 32,
   "id": "0b20d477",
   "metadata": {},
   "outputs": [
    {
     "name": "stdout",
     "output_type": "stream",
     "text": [
      "<class 'int'>\n",
      "<class 'int'>\n",
      "<class 'str'>\n",
      "<class 'complex'>\n",
      "<class 'tuple'>\n",
      "<class 'list'>\n"
     ]
    }
   ],
   "source": [
    "print(type(5))\n",
    "print(type(5000*50000))\n",
    "print(type('j'))\n",
    "print(type(1j))\n",
    "print(type((1,)))\n",
    "print(type([1]))"
   ]
  },
  {
   "cell_type": "code",
   "execution_count": 35,
   "id": "12ab9561",
   "metadata": {},
   "outputs": [
    {
     "data": {
      "text/plain": [
       "Decimal('0.3')"
      ]
     },
     "execution_count": 35,
     "metadata": {},
     "output_type": "execute_result"
    }
   ],
   "source": [
    "from decimal import *\n",
    "0.1 + 0.1 + 0.1\n",
    "Decimal(\".1\") + Decimal(\".1\") + Decimal(\".1\")"
   ]
  },
  {
   "cell_type": "code",
   "execution_count": 37,
   "id": "bed5bdde",
   "metadata": {},
   "outputs": [
    {
     "name": "stdout",
     "output_type": "stream",
     "text": [
      "0\n",
      "1\n",
      "1\n",
      "2\n",
      "3\n",
      "5\n",
      "8\n",
      "13\n",
      "21\n",
      "34\n",
      "55\n",
      "89\n",
      "144\n",
      "233\n",
      "377\n",
      "610\n",
      "987\n",
      "1597\n",
      "2584\n",
      "4181\n"
     ]
    }
   ],
   "source": [
    "# FIBONACCI NUMBERS\n",
    "def fibonacci(n):\n",
    "   if n <= 1:\n",
    "       return n\n",
    "   else:\n",
    "       return(fibonacci(n-1) + fibonacci(n-2))\n",
    "\n",
    "for i in range(20):\n",
    "    print(fibonacci(i))"
   ]
  },
  {
   "cell_type": "code",
   "execution_count": 42,
   "id": "f631c4a8",
   "metadata": {},
   "outputs": [
    {
     "name": "stdout",
     "output_type": "stream",
     "text": [
      "e\n",
      " j:o:j:o:e:\n"
     ]
    }
   ],
   "source": [
    "#QUESTION 8 \n",
    "\n",
    "myName = \"jojoe\"\n",
    "print(myName[-1])\n",
    "\n",
    "newName = \" \"\n",
    "for each in myName:\n",
    "    newName = newName + each + \":\"\n",
    "print(newName)\n"
   ]
  },
  {
   "cell_type": "code",
   "execution_count": 52,
   "id": "389cecac",
   "metadata": {},
   "outputs": [
    {
     "name": "stdout",
     "output_type": "stream",
     "text": [
      "enter 10 numbers between 1 and 8: 1 2 3 4 5 5\n",
      "List of 10:  [1, 2, 3, 4, 5, 5]\n",
      "Count of 5:  2\n"
     ]
    }
   ],
   "source": [
    "#QUESTION 9\n",
    "\n",
    "listOf10 = []\n",
    "numString = input(\"enter 10 numbers between 1 and 8: \")\n",
    "for each in numString.split(\" \"):\n",
    "    listOf10.append(int(each))\n",
    "print(\"List of 10: \", listOf10)\n",
    "print(\"Count of 5: \", listOf10.count(5))\n",
    "\n"
   ]
  },
  {
   "cell_type": "code",
   "execution_count": 53,
   "id": "ff2db455",
   "metadata": {},
   "outputs": [
    {
     "name": "stdout",
     "output_type": "stream",
     "text": [
      "[1, 9, 25]\n"
     ]
    }
   ],
   "source": [
    "#QUESTION 10\n",
    "\n",
    "list1 = [1, 4, 9, 16, 25]\n",
    "\n",
    "newlist = [x for x in list1 if x%2 != 0]\n",
    "\n",
    "print(newlist)"
   ]
  },
  {
   "cell_type": "code",
   "execution_count": null,
   "id": "d992317b",
   "metadata": {},
   "outputs": [],
   "source": []
  }
 ],
 "metadata": {
  "kernelspec": {
   "display_name": "Python 3",
   "language": "python",
   "name": "python3"
  },
  "language_info": {
   "codemirror_mode": {
    "name": "ipython",
    "version": 3
   },
   "file_extension": ".py",
   "mimetype": "text/x-python",
   "name": "python",
   "nbconvert_exporter": "python",
   "pygments_lexer": "ipython3",
   "version": "3.8.8"
  }
 },
 "nbformat": 4,
 "nbformat_minor": 5
}
