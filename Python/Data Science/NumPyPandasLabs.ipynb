{
 "cells": [
  {
   "cell_type": "markdown",
   "id": "b558385f",
   "metadata": {},
   "source": [
    "NUMPY OVERVIEW"
   ]
  },
  {
   "cell_type": "code",
   "execution_count": 10,
   "id": "8c5379a9",
   "metadata": {},
   "outputs": [],
   "source": [
    "import numpy as np\n",
    "import csv"
   ]
  },
  {
   "cell_type": "code",
   "execution_count": 2,
   "id": "ff0ac888",
   "metadata": {},
   "outputs": [
    {
     "name": "stdout",
     "output_type": "stream",
     "text": [
      "198 µs ± 1.06 µs per loop (mean ± std. dev. of 7 runs, 1000 loops each)\n"
     ]
    }
   ],
   "source": [
    " myArray = range(1000)\n",
    "%timeit  [x ** 2 for x in myArray]"
   ]
  },
  {
   "cell_type": "code",
   "execution_count": 3,
   "id": "c4be357b",
   "metadata": {},
   "outputs": [
    {
     "name": "stdout",
     "output_type": "stream",
     "text": [
      "0.2483335000000011\n"
     ]
    }
   ],
   "source": [
    "import timeit\n",
    "print(timeit.timeit(setup='myArray = range(1000)', stmt='[x ** 2 for x in myArray]', number=1000))"
   ]
  },
  {
   "cell_type": "code",
   "execution_count": 5,
   "id": "06d76ad2",
   "metadata": {},
   "outputs": [
    {
     "name": "stdout",
     "output_type": "stream",
     "text": [
      "1.04 µs ± 20.2 ns per loop (mean ± std. dev. of 7 runs, 1000000 loops each)\n"
     ]
    }
   ],
   "source": [
    "otherArray = np.arange(1000)\n",
    "%timeit otherArray ** 2"
   ]
  },
  {
   "cell_type": "markdown",
   "id": "dc9ce4b4",
   "metadata": {},
   "source": [
    "NUMPY DATATYPES AND ARRAYS"
   ]
  },
  {
   "cell_type": "code",
   "execution_count": 15,
   "id": "c068a0f3",
   "metadata": {},
   "outputs": [],
   "source": [
    "with open('AAPL-2017.csv', newline='') as f:\n",
    "    reader = csv.DictReader(f)\n",
    "    aapl = np.empty((0,6))\n",
    "    \n",
    "#     for row in reader:\n",
    "#         oneRow = np.array([[row['Open'], row['High'],row['Low'],row['Adj Close'],row['Volume']]])\n",
    "#         aapl = np.append(aapl,oneRow,axis=0)\n",
    "        \n",
    "# print(aapl)"
   ]
  },
  {
   "cell_type": "code",
   "execution_count": null,
   "id": "fc478422",
   "metadata": {},
   "outputs": [],
   "source": []
  }
 ],
 "metadata": {
  "kernelspec": {
   "display_name": "Python 3",
   "language": "python",
   "name": "python3"
  },
  "language_info": {
   "codemirror_mode": {
    "name": "ipython",
    "version": 3
   },
   "file_extension": ".py",
   "mimetype": "text/x-python",
   "name": "python",
   "nbconvert_exporter": "python",
   "pygments_lexer": "ipython3",
   "version": "3.8.8"
  }
 },
 "nbformat": 4,
 "nbformat_minor": 5
}
