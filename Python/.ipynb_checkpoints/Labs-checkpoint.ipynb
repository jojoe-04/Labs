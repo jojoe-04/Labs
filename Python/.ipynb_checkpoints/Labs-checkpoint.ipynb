{
 "cells": [
  {
   "cell_type": "markdown",
   "id": "41bc02fb",
   "metadata": {},
   "source": [
    "INTRO TO PYTHON LAB 1"
   ]
  },
  {
   "cell_type": "code",
   "execution_count": 4,
   "id": "4e3d74c2",
   "metadata": {},
   "outputs": [
    {
     "name": "stdout",
     "output_type": "stream",
     "text": [
      "Please enter a number: 2\n",
      "even\n"
     ]
    }
   ],
   "source": [
    "#QUESTION 1 - EVEN OR ADD\n",
    "\n",
    "def evenOdd(number):\n",
    "    if number % 2 == 0:\n",
    "        return \"even\"\n",
    "    return \"odd\"\n",
    "\n",
    "num = eval(input(\"Please enter a number: \"))\n",
    "print(evenOdd(num))"
   ]
  },
  {
   "cell_type": "code",
   "execution_count": 6,
   "id": "dd4948cf",
   "metadata": {},
   "outputs": [
    {
     "name": "stdout",
     "output_type": "stream",
     "text": [
      "jojoe\n",
      "14\n",
      "jojoe14\n"
     ]
    }
   ],
   "source": [
    "#QUESTION 2 - Create Variables\n",
    "name = \"jojoe\"\n",
    "age = 14\n",
    "print(name)\n",
    "print(age)\n",
    "combined =  \"\" + name + str(age)\n",
    "print(combined)"
   ]
  },
  {
   "cell_type": "code",
   "execution_count": null,
   "id": "6d7c3848",
   "metadata": {},
   "outputs": [],
   "source": [
    "#QUESTION 3 - Guess random\n",
    "\n",
    "import random\n",
    "def randomGuess():\n",
    "    rand = random.randint(1,5)\n",
    "\n",
    "    print(\"Please guess a random number between (1 - 5) I have picked\")\n",
    "    print(\"Enter 0 to quit\")\n",
    "    print(\" \")\n",
    "\n",
    "    while True:\n",
    "        num = eval(input(\"Enter another Guess: \"))\n",
    "        if num == 0:\n",
    "            print(\"You quit\")\n",
    "        if num == rand:\n",
    "            print(\"You entered the correct guess: \" , rand)\n",
    "            break\n",
    "        \n",
    "    \n",
    "randomGuess()"
   ]
  },
  {
   "cell_type": "code",
   "execution_count": 23,
   "id": "67a93c7f",
   "metadata": {},
   "outputs": [
    {
     "name": "stdout",
     "output_type": "stream",
     "text": [
      "4  is even\n",
      "16  is even\n",
      "4  is even\n",
      "16  is even\n"
     ]
    }
   ],
   "source": [
    "# QUESTION 4 - \n",
    "\n",
    "list1 = [1,4,9,16,25]\n",
    "tuple1 = (1,4,9,16,25)\n",
    "\n",
    "for each in list1:\n",
    "    if evenOdd(each) == \"even\":\n",
    "        print(each, \" is even\")\n",
    "\n",
    "\n",
    "for each in tuple1:\n",
    "    if evenOdd(each) == \"even\":\n",
    "        print(each, \" is even\")"
   ]
  },
  {
   "cell_type": "code",
   "execution_count": 29,
   "id": "2a387466",
   "metadata": {},
   "outputs": [
    {
     "name": "stdout",
     "output_type": "stream",
     "text": [
      "15  years\n",
      "180  months\n",
      "5475  days\n",
      "131490  hours\n"
     ]
    }
   ],
   "source": [
    "\n",
    "def yearsToAge(age):\n",
    "    years = 0\n",
    "    for i in range(1,age+1):\n",
    "        years += i\n",
    "    print(years, \" years\")\n",
    "    print(years*12, \" months\")\n",
    "    print(years*365, \" days\")\n",
    "    print(years*8766, \" hours\")\n",
    "        \n",
    "yearsToAge(5)"
   ]
  },
  {
   "cell_type": "markdown",
   "id": "027b3f88",
   "metadata": {},
   "source": [
    "DATA TYPES"
   ]
  },
  {
   "cell_type": "code",
   "execution_count": 32,
   "id": "93e409f3",
   "metadata": {},
   "outputs": [
    {
     "name": "stdout",
     "output_type": "stream",
     "text": [
      "<class 'int'>\n",
      "<class 'int'>\n",
      "<class 'str'>\n",
      "<class 'complex'>\n",
      "<class 'tuple'>\n",
      "<class 'list'>\n"
     ]
    }
   ],
   "source": [
    "print(type(5))\n",
    "print(type(5000*50000))\n",
    "print(type('j'))\n",
    "print(type(1j))\n",
    "print(type((1,)))\n",
    "print(type([1]))"
   ]
  },
  {
   "cell_type": "code",
   "execution_count": 35,
   "id": "156fff5e",
   "metadata": {},
   "outputs": [
    {
     "data": {
      "text/plain": [
       "Decimal('0.3')"
      ]
     },
     "execution_count": 35,
     "metadata": {},
     "output_type": "execute_result"
    }
   ],
   "source": [
    "from decimal import *\n",
    "0.1 + 0.1 + 0.1\n",
    "Decimal(\".1\") + Decimal(\".1\") + Decimal(\".1\")"
   ]
  },
  {
   "cell_type": "code",
   "execution_count": 37,
   "id": "df6102c1",
   "metadata": {},
   "outputs": [
    {
     "name": "stdout",
     "output_type": "stream",
     "text": [
      "0\n",
      "1\n",
      "1\n",
      "2\n",
      "3\n",
      "5\n",
      "8\n",
      "13\n",
      "21\n",
      "34\n",
      "55\n",
      "89\n",
      "144\n",
      "233\n",
      "377\n",
      "610\n",
      "987\n",
      "1597\n",
      "2584\n",
      "4181\n"
     ]
    }
   ],
   "source": [
    "# FIBONACCI NUMBERS\n",
    "def fibonacci(n):\n",
    "   if n <= 1:\n",
    "       return n\n",
    "   else:\n",
    "       return(fibonacci(n-1) + fibonacci(n-2))\n",
    "\n",
    "for i in range(20):\n",
    "    print(fibonacci(i))"
   ]
  },
  {
   "cell_type": "code",
   "execution_count": 42,
   "id": "19fdf59c",
   "metadata": {},
   "outputs": [
    {
     "name": "stdout",
     "output_type": "stream",
     "text": [
      "e\n",
      " j:o:j:o:e:\n"
     ]
    }
   ],
   "source": [
    "#QUESTION 8 \n",
    "\n",
    "myName = \"jojoe\"\n",
    "print(myName[-1])\n",
    "\n",
    "newName = \" \"\n",
    "for each in myName:\n",
    "    newName = newName + each + \":\"\n",
    "print(newName)\n"
   ]
  },
  {
   "cell_type": "code",
   "execution_count": 52,
   "id": "1e0a29eb",
   "metadata": {},
   "outputs": [
    {
     "name": "stdout",
     "output_type": "stream",
     "text": [
      "enter 10 numbers between 1 and 8: 1 2 3 4 5 5\n",
      "List of 10:  [1, 2, 3, 4, 5, 5]\n",
      "Count of 5:  2\n"
     ]
    }
   ],
   "source": [
    "#QUESTION 9\n",
    "\n",
    "listOf10 = []\n",
    "numString = input(\"enter 10 numbers between 1 and 8: \")\n",
    "for each in numString.split(\" \"):\n",
    "    listOf10.append(int(each))\n",
    "print(\"List of 10: \", listOf10)\n",
    "print(\"Count of 5: \", listOf10.count(5))\n",
    "\n"
   ]
  },
  {
   "cell_type": "code",
   "execution_count": 53,
   "id": "d40703f1",
   "metadata": {},
   "outputs": [
    {
     "name": "stdout",
     "output_type": "stream",
     "text": [
      "[1, 9, 25]\n"
     ]
    }
   ],
   "source": [
    "#QUESTION 10\n",
    "\n",
    "list1 = [1, 4, 9, 16, 25]\n",
    "\n",
    "newlist = [x for x in list1 if x%2 != 0]\n",
    "\n",
    "print(newlist)"
   ]
  },
  {
   "cell_type": "markdown",
   "id": "d31641e2",
   "metadata": {},
   "source": [
    "FUNCTIONS"
   ]
  },
  {
   "cell_type": "code",
   "execution_count": 56,
   "id": "165e6078",
   "metadata": {},
   "outputs": [
    {
     "name": "stdout",
     "output_type": "stream",
     "text": [
      "[25, 1, 4, 9, 16]\n"
     ]
    }
   ],
   "source": [
    "# QUESTION 2 - Write a function that takes the last element in a list and moves it to the front of the list.\n",
    "\n",
    "\n",
    "def moveToFront():\n",
    "    list1 = [1, 4, 9, 16, 25]\n",
    "    list1.insert(0,list1.pop())\n",
    "    print(list1)\n",
    "\n",
    "moveToFront()"
   ]
  },
  {
   "cell_type": "code",
   "execution_count": 61,
   "id": "e627d479",
   "metadata": {
    "scrolled": true
   },
   "outputs": [
    {
     "name": "stdout",
     "output_type": "stream",
     "text": [
      "(9, 16, 25)\n"
     ]
    }
   ],
   "source": [
    "# QUESTION - 3\n",
    "\n",
    "def getTupleFromList(list1,*indx):\n",
    "    tuple1 = ()\n",
    "    for each in indx:\n",
    "        tuple1 = tuple1 + (list1[each],)\n",
    "    print(tuple1)\n",
    "    \n",
    "    \n",
    "list2 =  [1, 4, 9, 16, 25]\n",
    "getTupleFromList(list2,2,3,4)"
   ]
  },
  {
   "cell_type": "code",
   "execution_count": 74,
   "id": "eb62b105",
   "metadata": {},
   "outputs": [
    {
     "name": "stdout",
     "output_type": "stream",
     "text": [
      "{'a': 1, 'b': 2, 'c': 3}\n"
     ]
    }
   ],
   "source": [
    "# QUESTION - 4\n",
    "\n",
    "def createDict(**kwargs):\n",
    "    print(str(kwargs))\n",
    "\n",
    "createDict(a=1, b=2,c=3)"
   ]
  },
  {
   "cell_type": "code",
   "execution_count": 76,
   "id": "86aaa262",
   "metadata": {},
   "outputs": [
    {
     "name": "stdout",
     "output_type": "stream",
     "text": [
      "4\n"
     ]
    }
   ],
   "source": [
    "# QUESTION - 5\n",
    "\n",
    "def acc(init, tuple1):\n",
    "    for each in tuple1:\n",
    "        init += each\n",
    "    print(init)\n",
    "    \n",
    "acc(0,(1,1,1,1))"
   ]
  },
  {
   "cell_type": "code",
   "execution_count": 78,
   "id": "485adcc9",
   "metadata": {},
   "outputs": [
    {
     "name": "stdout",
     "output_type": "stream",
     "text": [
      "0\n",
      "1\n",
      "1\n",
      "2\n",
      "3\n",
      "5\n",
      "8\n",
      "13\n",
      "21\n",
      "34\n"
     ]
    }
   ],
   "source": [
    "def fibonacci(n):\n",
    "   if n <= 1:\n",
    "       return n\n",
    "   else:\n",
    "       return(fibonacci(n-1) + fibonacci(n-2))\n",
    "\n",
    "def printFiboValues(n):\n",
    "    for i in range(n):\n",
    "        print(fibonacci(i))\n",
    "        \n",
    "printFiboValues(10)"
   ]
  },
  {
   "cell_type": "code",
   "execution_count": 84,
   "id": "a2534300",
   "metadata": {},
   "outputs": [
    {
     "name": "stdout",
     "output_type": "stream",
     "text": [
      "Enter input till end I love you Jojoe end\n",
      "b'I love you Jojoe '\n"
     ]
    }
   ],
   "source": [
    "def appendToFile(filename, text):\n",
    "    try:\n",
    "        f = open(filename, \"w\")\n",
    "    except OSError:\n",
    "        print(\"Could not open/read file:\", filename)\n",
    "        sys.exit()\n",
    "    with f:\n",
    "        f.write(text)\n",
    "\n",
    "def history():\n",
    "        userInput = str(input(\"Enter input till end \"))\n",
    "        text = userInput.split(\"end\")[0]\n",
    "        appendToFile(\"history.txt\", text)\n",
    "\n",
    "    \n",
    "\n",
    "def readFileContents(filename):\n",
    "    try:\n",
    "        f = open(filename, 'rb')\n",
    "    except OSError:\n",
    "        print(\"Could not open/read file:\", filename)\n",
    "        sys.exit()\n",
    "\n",
    "    with f:\n",
    "        print(f.readline())\n",
    "\n",
    "    \n",
    "history()\n",
    "print(\" \")\n",
    "readFileContents(\"history.txt\")"
   ]
  },
  {
   "cell_type": "code",
   "execution_count": 86,
   "id": "33963aa1",
   "metadata": {},
   "outputs": [
    {
     "ename": "IndentationError",
     "evalue": "expected an indented block (<ipython-input-86-18804a039613>, line 5)",
     "output_type": "error",
     "traceback": [
      "\u001b[1;36m  File \u001b[1;32m\"<ipython-input-86-18804a039613>\"\u001b[1;36m, line \u001b[1;32m5\u001b[0m\n\u001b[1;33m    for line in file1:\u001b[0m\n\u001b[1;37m    ^\u001b[0m\n\u001b[1;31mIndentationError\u001b[0m\u001b[1;31m:\u001b[0m expected an indented block\n"
     ]
    }
   ],
   "source": [
    "def copyToFile(file1,file2):\n",
    "    try:\n",
    "        with open(file1,'r') as firstfile, open(file2,'a') as secondfile:\n",
    "      \n",
    "        for line in file1:\n",
    "            file2.write(line)\n",
    "        \n",
    "    except OSError:\n",
    "        print(\"Could not open/read file\")\n",
    "        sys.exit()\n",
    "        \n",
    "copyToFile(\"History.txt\",\"HistoryUpdate.txt\")"
   ]
  },
  {
   "cell_type": "code",
   "execution_count": null,
   "id": "8465d856",
   "metadata": {},
   "outputs": [],
   "source": []
  }
 ],
 "metadata": {
  "kernelspec": {
   "display_name": "Python 3",
   "language": "python",
   "name": "python3"
  },
  "language_info": {
   "codemirror_mode": {
    "name": "ipython",
    "version": 3
   },
   "file_extension": ".py",
   "mimetype": "text/x-python",
   "name": "python",
   "nbconvert_exporter": "python",
   "pygments_lexer": "ipython3",
   "version": "3.8.8"
  }
 },
 "nbformat": 4,
 "nbformat_minor": 5
}
